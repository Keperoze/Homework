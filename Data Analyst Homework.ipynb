{
 "cells": [
  {
   "cell_type": "code",
   "execution_count": 96,
   "id": "ce6710d6",
   "metadata": {},
   "outputs": [],
   "source": [
    "import pandas as pd\n",
    "import glob\n",
    "#import whois\n",
    "from datetime import datetime\n",
    "import matplotlib.pyplot as plt\n",
    "import seaborn as sns"
   ]
  },
  {
   "cell_type": "code",
   "execution_count": 97,
   "id": "60e6b19a",
   "metadata": {},
   "outputs": [],
   "source": [
    "json_files = glob.glob('*.json')\n",
    "\n",
    "for json_file in json_files:\n",
    "    variable_name = json_file.split('.')[0]\n",
    "    df = pd.read_json(json_file)\n",
    "    globals()[variable_name] = df"
   ]
  },
  {
   "cell_type": "code",
   "execution_count": 98,
   "id": "8327f7ba",
   "metadata": {
    "collapsed": true
   },
   "outputs": [
    {
     "name": "stdout",
     "output_type": "stream",
     "text": [
      "['messages.json', 'priority.json', 'reputations.json', 'true_reputations.json']\n"
     ]
    }
   ],
   "source": [
    "print(json_files)"
   ]
  },
  {
   "cell_type": "markdown",
   "id": "3a4bc4ba",
   "metadata": {},
   "source": [
    "# 1. Data cleaning"
   ]
  },
  {
   "cell_type": "code",
   "execution_count": 99,
   "id": "d6384a4c",
   "metadata": {
    "collapsed": true
   },
   "outputs": [
    {
     "data": {
      "text/plain": [
       "id                       0\n",
       "url                      0\n",
       "date                     0\n",
       "source                   0\n",
       "protocol                 0\n",
       "response_code         1005\n",
       "load_time_seconds        0\n",
       "domain_age_years     25095\n",
       "page_size_kb             0\n",
       "redirects                0\n",
       "service                  0\n",
       "dtype: int64"
      ]
     },
     "execution_count": 99,
     "metadata": {},
     "output_type": "execute_result"
    }
   ],
   "source": [
    "messages.isnull().sum()"
   ]
  },
  {
   "cell_type": "markdown",
   "id": "b6ec08e2",
   "metadata": {},
   "source": [
    "## 1.1. I see that there are missing values in response code and domain age columns."
   ]
  },
  {
   "cell_type": "code",
   "execution_count": 100,
   "id": "dd03731c",
   "metadata": {
    "collapsed": true
   },
   "outputs": [
    {
     "data": {
      "text/plain": [
       "response_code\n",
       "200.0    80095\n",
       "301.0    14935\n",
       "404.0     3965\n",
       "Name: count, dtype: int64"
      ]
     },
     "execution_count": 100,
     "metadata": {},
     "output_type": "execute_result"
    }
   ],
   "source": [
    "messages['response_code'].value_counts()"
   ]
  },
  {
   "cell_type": "code",
   "execution_count": 101,
   "id": "2cedaa1c",
   "metadata": {},
   "outputs": [],
   "source": [
    "messages = messages.sort_values(['url', 'source', 'date'])"
   ]
  },
  {
   "cell_type": "code",
   "execution_count": 102,
   "id": "85929914",
   "metadata": {},
   "outputs": [],
   "source": [
    "messages['response_code'] = messages.groupby(['url','source'])['response_code'].fillna(method = 'ffill')\n",
    "messages['response_code'] = messages.groupby(['url','source'])['response_code'].fillna(method = 'bfill')"
   ]
  },
  {
   "cell_type": "markdown",
   "id": "46fc4fce",
   "metadata": {},
   "source": [
    "### We have successfully filled the missing response code values by following this logic:\n",
    "### 1. We have grouped the data by url and source groups and filtered their entries by date\n",
    "### 2. In these groups, we identify the blank response code values and apply the previous entries value\n",
    "### 3. If the mentioned blank value is the very first one in this group, we fill it with the following date's response code value"
   ]
  },
  {
   "cell_type": "markdown",
   "id": "28abaab5",
   "metadata": {},
   "source": [
    "## 1.2. Domain age"
   ]
  },
  {
   "cell_type": "markdown",
   "id": "b64dc94b",
   "metadata": {},
   "source": [
    "### Since there are a lot of missing domain age values and the one's that are available are obviously faulty (all of them fall into a range of 1-3 years), I will re-populate this column by scraping via the whois api"
   ]
  },
  {
   "cell_type": "code",
   "execution_count": 103,
   "id": "bff6e468",
   "metadata": {},
   "outputs": [],
   "source": [
    "domains = messages['url'].unique().tolist()\n",
    "domains_dict = {domain: '' for domain in domains}"
   ]
  },
  {
   "cell_type": "code",
   "execution_count": 104,
   "id": "d0a4db93",
   "metadata": {
    "collapsed": true
   },
   "outputs": [
    {
     "data": {
      "text/plain": [
       "2168"
      ]
     },
     "execution_count": 104,
     "metadata": {},
     "output_type": "execute_result"
    }
   ],
   "source": [
    "len(domains)"
   ]
  },
  {
   "cell_type": "markdown",
   "id": "2006000f",
   "metadata": {},
   "source": [
    "### There are a total of 2168 unique domain names - I will scrape the registration dates of all of them and store these values in a separate dictionary."
   ]
  },
  {
   "cell_type": "markdown",
   "id": "1e11d789",
   "metadata": {},
   "source": [
    "### The scraping code below is just an ilustration of how the date was extracted - in reality it was scraped in blocks of 100 with time intervals in between."
   ]
  },
  {
   "cell_type": "code",
   "execution_count": 62,
   "id": "e07257a4",
   "metadata": {
    "collapsed": true
   },
   "outputs": [
    {
     "name": "stdout",
     "output_type": "stream",
     "text": [
      "Domain: 1xlite-377032.top, Registration Date: 2022-12-29 11:35:49\n",
      "Domain: 20minutes.fr, Registration Date: 2001-07-11 22:00:00\n",
      "Domain: 20minutos.es, Registration Date: None\n",
      "Domain: 2345.com, Registration Date: 1998-01-19 05:00:00\n",
      "Domain: 247sports.com, Registration Date: 2001-04-18 10:37:33\n",
      "Error trying to connect to socket: closing socket - [Errno 11001] getaddrinfo failed\n",
      "Domain: 24h.com.vn, Registration Date: None\n",
      "Domain: 2gis.ru, Registration Date: 2001-02-18 21:00:00\n",
      "Domain: 2mdn.net, Registration Date: 2005-05-02 18:46:31\n",
      "Domain: 33across.com, Registration Date: [datetime.datetime(2007, 9, 29, 20, 56, 11), datetime.datetime(2007, 9, 29, 15, 56, 11)]\n",
      "Domain: 360yield.com, Registration Date: 2009-06-02 13:04:25\n",
      "Error trying to connect to socket: closing socket - [Errno 11001] getaddrinfo failed\n",
      "Domain: 39flp.live, Registration Date: None\n",
      "Domain: 3bmeteo.com, Registration Date: [datetime.datetime(1999, 4, 15, 4, 0), datetime.datetime(2017, 3, 1, 0, 0)]\n",
      "Domain: 3dsplm.cn, Registration Date: 2009-07-21 13:08:28\n",
      "Domain: 3gppnetwork.org, Registration Date: [datetime.datetime(2002, 5, 15, 13, 35, 38), datetime.datetime(2013, 3, 17, 2, 49, 4)]\n",
      "Domain: 3lift.com, Registration Date: 2013-01-04 18:15:56\n",
      "Domain: 4kporn.xxx, Registration Date: 2020-11-11 22:07:30\n",
      "Domain: 52e.xyz, Registration Date: 2023-07-29 08:18:02\n",
      "Domain: 5ch.net, Registration Date: 2000-03-01 16:38:39\n",
      "Domain: 8kun.top, Registration Date: [datetime.datetime(2019, 11, 15, 1, 46, 30), datetime.datetime(2019, 11, 15, 9, 46, 30)]\n",
      "Domain: 8x8.com, Registration Date: 1996-01-22 05:00:00\n"
     ]
    }
   ],
   "source": [
    "for domain in domains[100:200]:\n",
    "        info = whois.whois(domain)\n",
    "        registration_date = info.creation_date\n",
    "        print(f\"Domain: {domain}, Registration Date: {registration_date}\")\n",
    "        domains_dict[domain] = registration_date"
   ]
  },
  {
   "cell_type": "markdown",
   "id": "577988ed",
   "metadata": {},
   "source": [
    "### Some dates have been populated as lists of tuples, we'll have to clean them up."
   ]
  },
  {
   "cell_type": "code",
   "execution_count": 131,
   "id": "0101baf6",
   "metadata": {},
   "outputs": [],
   "source": [
    "for domain, date in domains_dict.items():\n",
    "    if type(date) == list:\n",
    "        domains_dict[domain] = date[0]"
   ]
  },
  {
   "cell_type": "code",
   "execution_count": 132,
   "id": "5fdc0227",
   "metadata": {},
   "outputs": [],
   "source": [
    "df = pd.DataFrame(list(domains_dict.items()), columns=['Domain', 'Date'])"
   ]
  },
  {
   "cell_type": "code",
   "execution_count": 133,
   "id": "7a5d0bb7",
   "metadata": {},
   "outputs": [],
   "source": [
    "df.to_csv('domains.csv', index=False)"
   ]
  },
  {
   "cell_type": "markdown",
   "id": "2b488d22",
   "metadata": {},
   "source": [
    "### The registration dates of these domains have been saved in a .csv file for later use to avoid repetitive scraping."
   ]
  },
  {
   "cell_type": "code",
   "execution_count": 105,
   "id": "8d91f528",
   "metadata": {},
   "outputs": [],
   "source": [
    "dates = pd.read_csv('domains.csv')"
   ]
  },
  {
   "cell_type": "code",
   "execution_count": 106,
   "id": "54323104",
   "metadata": {},
   "outputs": [],
   "source": [
    "dates['Date'] = pd.to_datetime(dates['Date'], errors = 'coerce')"
   ]
  },
  {
   "cell_type": "code",
   "execution_count": 107,
   "id": "4a1dd3db",
   "metadata": {},
   "outputs": [],
   "source": [
    "dates = dates.dropna(subset = ['Date'])"
   ]
  },
  {
   "cell_type": "code",
   "execution_count": 108,
   "id": "0cfa336e",
   "metadata": {},
   "outputs": [],
   "source": [
    "dates['age'] = ((datetime.now() - dates['Date']).dt.days / 365.25).round(1)"
   ]
  },
  {
   "cell_type": "markdown",
   "id": "48c37341",
   "metadata": {},
   "source": [
    "### Since there are some missing values, we'll fill them with the closest domain name's value"
   ]
  },
  {
   "cell_type": "markdown",
   "id": "fa959e5e",
   "metadata": {},
   "source": [
    "### Now that we have the accurate ages of most of the domains, let's put these values back into the messages dataframe"
   ]
  },
  {
   "cell_type": "code",
   "execution_count": 109,
   "id": "cd69aced",
   "metadata": {},
   "outputs": [],
   "source": [
    "messages = messages.merge(dates[['Domain', 'age']], left_on = 'url', right_on = 'Domain', how = 'left')\n",
    "messages = messages.drop(['domain_age_years', 'Domain'], axis = 1)"
   ]
  },
  {
   "cell_type": "code",
   "execution_count": 110,
   "id": "f5cf0b6d",
   "metadata": {
    "collapsed": true
   },
   "outputs": [
    {
     "data": {
      "text/plain": [
       "id                       0\n",
       "url                      0\n",
       "date                     0\n",
       "source                   0\n",
       "protocol                 0\n",
       "response_code            0\n",
       "load_time_seconds        0\n",
       "page_size_kb             0\n",
       "redirects                0\n",
       "service                  0\n",
       "age                  14835\n",
       "dtype: int64"
      ]
     },
     "execution_count": 110,
     "metadata": {},
     "output_type": "execute_result"
    }
   ],
   "source": [
    "messages.isna().sum()"
   ]
  },
  {
   "cell_type": "code",
   "execution_count": 111,
   "id": "ed145c31",
   "metadata": {},
   "outputs": [],
   "source": [
    "messages['domain'] = messages['url'].apply(lambda x: x.rsplit('.', 1)[0])\n",
    "messages['TLD'] = messages['url'].apply(lambda x: x.split('.')[-1])"
   ]
  },
  {
   "cell_type": "code",
   "execution_count": 112,
   "id": "87c5b73a",
   "metadata": {},
   "outputs": [],
   "source": [
    "messages['age'] = messages.groupby('domain')['age'].fillna(method = 'ffill')\n",
    "messages['age'] = messages.groupby('domain')['age'].fillna(method = 'bfill')"
   ]
  },
  {
   "cell_type": "code",
   "execution_count": 113,
   "id": "20f02e37",
   "metadata": {
    "collapsed": true
   },
   "outputs": [
    {
     "data": {
      "text/plain": [
       "id                      0\n",
       "url                     0\n",
       "date                    0\n",
       "source                  0\n",
       "protocol                0\n",
       "response_code           0\n",
       "load_time_seconds       0\n",
       "page_size_kb            0\n",
       "redirects               0\n",
       "service                 0\n",
       "age                  7706\n",
       "domain                  0\n",
       "TLD                     0\n",
       "dtype: int64"
      ]
     },
     "execution_count": 113,
     "metadata": {},
     "output_type": "execute_result"
    }
   ],
   "source": [
    "messages.isna().sum()"
   ]
  },
  {
   "cell_type": "code",
   "execution_count": 114,
   "id": "934b6d4b",
   "metadata": {
    "collapsed": true
   },
   "outputs": [
    {
     "data": {
      "text/plain": [
       "170"
      ]
     },
     "execution_count": 114,
     "metadata": {},
     "output_type": "execute_result"
    }
   ],
   "source": [
    "len(messages[messages['age'].isna()]['url'].unique())"
   ]
  },
  {
   "cell_type": "markdown",
   "id": "f7205972",
   "metadata": {},
   "source": [
    "### I have filled some of the missing domain ages by following a similar logic like I did with the response codes:\n",
    "### 1. I've separated the url's to have sepaprate columns for domain names and TLD's.\n",
    "### 2. I've grouped the data by domain name and filled all the blank age values with the previous non-blank value.\n",
    "### 3. If the blank entry is the very first one in the group, I filled it with the very next one's values.\n",
    "### 4. I am left with 170 unique domains that were unrecognized and I can't reliably fill in their registration ages."
   ]
  },
  {
   "cell_type": "markdown",
   "id": "bcf847ec",
   "metadata": {},
   "source": [
    "## 1.3. I see that there are many faulty dates (e.g. dating back to 1938, etc. I have Identified that the logical starting point is 2020-01-01. I will categorize all the dates before that to be 2019-12-31, so that we know all the visual representations, dating back before 2020, are of an unclear date."
   ]
  },
  {
   "cell_type": "code",
   "execution_count": 115,
   "id": "d2301f1b",
   "metadata": {},
   "outputs": [],
   "source": [
    "messages.loc[messages['date'] < '2020-01-01', 'date'] = '2019-12-31'"
   ]
  },
  {
   "cell_type": "code",
   "execution_count": 116,
   "id": "e406e208",
   "metadata": {
    "collapsed": true
   },
   "outputs": [
    {
     "data": {
      "text/plain": [
       "date\n",
       "2019-12-31    1858\n",
       "2024-02-17      93\n",
       "2023-07-22      88\n",
       "2023-03-18      87\n",
       "2021-03-09      87\n",
       "              ... \n",
       "2021-09-11      45\n",
       "2022-01-20      45\n",
       "2022-05-28      44\n",
       "2021-09-02      43\n",
       "2021-12-25      37\n",
       "Name: count, Length: 1521, dtype: int64"
      ]
     },
     "execution_count": 116,
     "metadata": {},
     "output_type": "execute_result"
    }
   ],
   "source": [
    "messages['date'].value_counts()"
   ]
  },
  {
   "cell_type": "markdown",
   "id": "578a74df",
   "metadata": {},
   "source": [
    "# 2. Reputations"
   ]
  },
  {
   "cell_type": "code",
   "execution_count": 117,
   "id": "09d59239",
   "metadata": {},
   "outputs": [],
   "source": [
    "reps = reputations.merge(true_reputations, on = 'id', suffixes = ['_local', '_service'])"
   ]
  },
  {
   "cell_type": "code",
   "execution_count": 118,
   "id": "2a324e4a",
   "metadata": {
    "collapsed": true
   },
   "outputs": [
    {
     "data": {
      "text/plain": [
       "reputation_category\n",
       "good       54233\n",
       "neutral    26731\n",
       "bad         9036\n",
       "Name: count, dtype: int64"
      ]
     },
     "execution_count": 118,
     "metadata": {},
     "output_type": "execute_result"
    }
   ],
   "source": [
    "reps['reputation_category'].value_counts()"
   ]
  },
  {
   "cell_type": "code",
   "execution_count": 119,
   "id": "87fb712c",
   "metadata": {
    "collapsed": true
   },
   "outputs": [
    {
     "data": {
      "text/plain": [
       "true_reputation\n",
       "clean       53968\n",
       "unknown      9089\n",
       "phishing     9082\n",
       "scam         8961\n",
       "malware      8900\n",
       "Name: count, dtype: int64"
      ]
     },
     "execution_count": 119,
     "metadata": {},
     "output_type": "execute_result"
    }
   ],
   "source": [
    "reps['true_reputation'].value_counts()"
   ]
  },
  {
   "cell_type": "markdown",
   "id": "6aeadc49",
   "metadata": {},
   "source": [
    "### The \"good\" reputations have almost identical amounts of entries, however the bad ones have to be categorized"
   ]
  },
  {
   "cell_type": "code",
   "execution_count": 120,
   "id": "0c41dd9a",
   "metadata": {},
   "outputs": [],
   "source": [
    "def categorize(x):\n",
    "    if x == 'clean': return 'good'\n",
    "    elif x == 'unknown': return 'neutral'\n",
    "    return 'bad'\n",
    "\n",
    "reps['true_reputation_adjusted'] = reps['true_reputation'].apply(categorize)"
   ]
  },
  {
   "cell_type": "code",
   "execution_count": 121,
   "id": "c1ae6571",
   "metadata": {
    "collapsed": true
   },
   "outputs": [
    {
     "data": {
      "text/plain": [
       "true_reputation_adjusted\n",
       "good       53968\n",
       "bad        26943\n",
       "neutral     9089\n",
       "Name: count, dtype: int64"
      ]
     },
     "execution_count": 121,
     "metadata": {},
     "output_type": "execute_result"
    }
   ],
   "source": [
    "reps['true_reputation_adjusted'].value_counts()"
   ]
  },
  {
   "cell_type": "code",
   "execution_count": 122,
   "id": "ae36b5dc",
   "metadata": {},
   "outputs": [],
   "source": [
    "reps['correct_reputation'] = reps['reputation_category'] == reps['true_reputation_adjusted']"
   ]
  },
  {
   "cell_type": "code",
   "execution_count": 123,
   "id": "363fc98b",
   "metadata": {},
   "outputs": [
    {
     "data": {
      "text/html": [
       "<div>\n",
       "<style scoped>\n",
       "    .dataframe tbody tr th:only-of-type {\n",
       "        vertical-align: middle;\n",
       "    }\n",
       "\n",
       "    .dataframe tbody tr th {\n",
       "        vertical-align: top;\n",
       "    }\n",
       "\n",
       "    .dataframe thead th {\n",
       "        text-align: right;\n",
       "    }\n",
       "</style>\n",
       "<table border=\"1\" class=\"dataframe\">\n",
       "  <thead>\n",
       "    <tr style=\"text-align: right;\">\n",
       "      <th>correct_reputation</th>\n",
       "      <th>False</th>\n",
       "      <th>True</th>\n",
       "    </tr>\n",
       "    <tr>\n",
       "      <th>reputation_source_local</th>\n",
       "      <th></th>\n",
       "      <th></th>\n",
       "    </tr>\n",
       "  </thead>\n",
       "  <tbody>\n",
       "    <tr>\n",
       "      <th>source_1</th>\n",
       "      <td>57.909918</td>\n",
       "      <td>42.090082</td>\n",
       "    </tr>\n",
       "    <tr>\n",
       "      <th>source_2</th>\n",
       "      <td>57.552217</td>\n",
       "      <td>42.447783</td>\n",
       "    </tr>\n",
       "    <tr>\n",
       "      <th>source_3</th>\n",
       "      <td>57.753468</td>\n",
       "      <td>42.246532</td>\n",
       "    </tr>\n",
       "    <tr>\n",
       "      <th>source_4</th>\n",
       "      <td>57.880225</td>\n",
       "      <td>42.119775</td>\n",
       "    </tr>\n",
       "  </tbody>\n",
       "</table>\n",
       "</div>"
      ],
      "text/plain": [
       "correct_reputation           False      True \n",
       "reputation_source_local                      \n",
       "source_1                 57.909918  42.090082\n",
       "source_2                 57.552217  42.447783\n",
       "source_3                 57.753468  42.246532\n",
       "source_4                 57.880225  42.119775"
      ]
     },
     "execution_count": 123,
     "metadata": {},
     "output_type": "execute_result"
    }
   ],
   "source": [
    "reps.groupby('reputation_source_local')['correct_reputation'].value_counts(normalize=True).unstack() * 100"
   ]
  },
  {
   "cell_type": "markdown",
   "id": "b932db86",
   "metadata": {},
   "source": [
    "### Local source reliability differences seem to be negligible, the difference between highest and lowest performers is just 0.45%"
   ]
  },
  {
   "cell_type": "code",
   "execution_count": 124,
   "id": "cd6804c6",
   "metadata": {
    "collapsed": true
   },
   "outputs": [
    {
     "data": {
      "text/html": [
       "<div>\n",
       "<style scoped>\n",
       "    .dataframe tbody tr th:only-of-type {\n",
       "        vertical-align: middle;\n",
       "    }\n",
       "\n",
       "    .dataframe tbody tr th {\n",
       "        vertical-align: top;\n",
       "    }\n",
       "\n",
       "    .dataframe thead th {\n",
       "        text-align: right;\n",
       "    }\n",
       "</style>\n",
       "<table border=\"1\" class=\"dataframe\">\n",
       "  <thead>\n",
       "    <tr style=\"text-align: right;\">\n",
       "      <th>correct_reputation</th>\n",
       "      <th>False</th>\n",
       "      <th>True</th>\n",
       "    </tr>\n",
       "    <tr>\n",
       "      <th>reputation_source_local</th>\n",
       "      <th></th>\n",
       "      <th></th>\n",
       "    </tr>\n",
       "  </thead>\n",
       "  <tbody>\n",
       "    <tr>\n",
       "      <th>source_1</th>\n",
       "      <td>58.607251</td>\n",
       "      <td>41.392749</td>\n",
       "    </tr>\n",
       "    <tr>\n",
       "      <th>source_2</th>\n",
       "      <td>57.525594</td>\n",
       "      <td>42.474406</td>\n",
       "    </tr>\n",
       "    <tr>\n",
       "      <th>source_3</th>\n",
       "      <td>58.353854</td>\n",
       "      <td>41.646146</td>\n",
       "    </tr>\n",
       "    <tr>\n",
       "      <th>source_4</th>\n",
       "      <td>56.780572</td>\n",
       "      <td>43.219428</td>\n",
       "    </tr>\n",
       "  </tbody>\n",
       "</table>\n",
       "</div>"
      ],
      "text/plain": [
       "correct_reputation           False      True \n",
       "reputation_source_local                      \n",
       "source_1                 58.607251  41.392749\n",
       "source_2                 57.525594  42.474406\n",
       "source_3                 58.353854  41.646146\n",
       "source_4                 56.780572  43.219428"
      ]
     },
     "execution_count": 124,
     "metadata": {},
     "output_type": "execute_result"
    }
   ],
   "source": [
    "reps[reps['reputation_score']>=50].groupby('reputation_source_local')['correct_reputation'].value_counts(normalize=True).unstack() * 100"
   ]
  },
  {
   "cell_type": "markdown",
   "id": "c42c8b7b",
   "metadata": {},
   "source": [
    "### If we take into consideration the reputation score factor and filter out any instances where score is below 50, we get a slightly bigger distribution. Here, source 4 has the biggest score of 43.21%"
   ]
  },
  {
   "cell_type": "code",
   "execution_count": 125,
   "id": "5dfb4416",
   "metadata": {},
   "outputs": [],
   "source": [
    "bad_reps = reps[reps['reputation_category'] == 'bad']"
   ]
  },
  {
   "cell_type": "code",
   "execution_count": 126,
   "id": "f432072a",
   "metadata": {
    "collapsed": true
   },
   "outputs": [
    {
     "data": {
      "text/plain": [
       "reputation_source_local  true_reputation_adjusted\n",
       "source_1                 good                        1667\n",
       "                         bad                          803\n",
       "                         neutral                      287\n",
       "source_2                 good                        1583\n",
       "                         bad                          875\n",
       "                         neutral                      277\n",
       "source_3                 good                        1553\n",
       "                         bad                          777\n",
       "                         neutral                      259\n",
       "source_4                 good                         564\n",
       "                         bad                          290\n",
       "                         neutral                      101\n",
       "Name: count, dtype: int64"
      ]
     },
     "execution_count": 126,
     "metadata": {},
     "output_type": "execute_result"
    }
   ],
   "source": [
    "bad_reps.groupby('reputation_source_local')['true_reputation_adjusted'].value_counts()"
   ]
  },
  {
   "cell_type": "markdown",
   "id": "599cc297",
   "metadata": {},
   "source": [
    "### Even when we filter out only the \"Bad\" reputation categories, we see a similar rate of category mismatches across all sources."
   ]
  },
  {
   "cell_type": "markdown",
   "id": "d41b8d13",
   "metadata": {},
   "source": [
    "### Lets see if this tendency changes when we filter out only the most relevant messages of each URL:"
   ]
  },
  {
   "cell_type": "markdown",
   "id": "0e67f2dc",
   "metadata": {},
   "source": [
    "# 3. URL info"
   ]
  },
  {
   "cell_type": "code",
   "execution_count": 127,
   "id": "f0a05891",
   "metadata": {},
   "outputs": [],
   "source": [
    "urls = messages.merge(priority, on = 'id')"
   ]
  },
  {
   "cell_type": "code",
   "execution_count": 128,
   "id": "ade557b8",
   "metadata": {
    "collapsed": true
   },
   "outputs": [
    {
     "data": {
      "text/plain": [
       "2168"
      ]
     },
     "execution_count": 128,
     "metadata": {},
     "output_type": "execute_result"
    }
   ],
   "source": [
    "urls['url'].nunique()"
   ]
  },
  {
   "cell_type": "code",
   "execution_count": 129,
   "id": "26a46ebf",
   "metadata": {
    "collapsed": true
   },
   "outputs": [
    {
     "data": {
      "text/plain": [
       "2168"
      ]
     },
     "execution_count": 129,
     "metadata": {},
     "output_type": "execute_result"
    }
   ],
   "source": [
    "urls[urls['service'] == urls['priority']]['url'].nunique()"
   ]
  },
  {
   "cell_type": "markdown",
   "id": "9e46e07d",
   "metadata": {},
   "source": [
    "### As we can see, there are no such cases where a url has no instances of priority service. Meaning that we don't have to adjust our logic for it."
   ]
  },
  {
   "cell_type": "code",
   "execution_count": 130,
   "id": "4a1f4768",
   "metadata": {},
   "outputs": [],
   "source": [
    "urls = urls[urls['service'] == urls['priority']]"
   ]
  },
  {
   "cell_type": "code",
   "execution_count": 131,
   "id": "2a78c307",
   "metadata": {},
   "outputs": [],
   "source": [
    "urls = urls.merge(reputations, on = 'id')"
   ]
  },
  {
   "cell_type": "code",
   "execution_count": 132,
   "id": "c5a7ce47",
   "metadata": {},
   "outputs": [],
   "source": [
    "urls = urls.sort_values('reputation_date', ascending = False).drop_duplicates('url')"
   ]
  },
  {
   "cell_type": "code",
   "execution_count": 133,
   "id": "c0f8a877",
   "metadata": {},
   "outputs": [],
   "source": [
    "urls = urls.merge(true_reputations[['id', 'true_reputation']], on = 'id')"
   ]
  },
  {
   "cell_type": "markdown",
   "id": "6164b618",
   "metadata": {},
   "source": [
    "### We now have a list of unique URL's with their most relevant data. I'll save it into a separate .csv file for later use."
   ]
  },
  {
   "cell_type": "code",
   "execution_count": 134,
   "id": "3e02490a",
   "metadata": {
    "collapsed": true
   },
   "outputs": [
    {
     "data": {
      "text/html": [
       "<div>\n",
       "<style scoped>\n",
       "    .dataframe tbody tr th:only-of-type {\n",
       "        vertical-align: middle;\n",
       "    }\n",
       "\n",
       "    .dataframe tbody tr th {\n",
       "        vertical-align: top;\n",
       "    }\n",
       "\n",
       "    .dataframe thead th {\n",
       "        text-align: right;\n",
       "    }\n",
       "</style>\n",
       "<table border=\"1\" class=\"dataframe\">\n",
       "  <thead>\n",
       "    <tr style=\"text-align: right;\">\n",
       "      <th></th>\n",
       "      <th>id</th>\n",
       "      <th>url</th>\n",
       "      <th>date</th>\n",
       "      <th>source</th>\n",
       "      <th>protocol</th>\n",
       "      <th>response_code</th>\n",
       "      <th>load_time_seconds</th>\n",
       "      <th>page_size_kb</th>\n",
       "      <th>redirects</th>\n",
       "      <th>service</th>\n",
       "      <th>age</th>\n",
       "      <th>domain</th>\n",
       "      <th>TLD</th>\n",
       "      <th>priority</th>\n",
       "      <th>timestamp</th>\n",
       "      <th>reputation_source</th>\n",
       "      <th>reputation_score</th>\n",
       "      <th>reputation_category</th>\n",
       "      <th>reputation_date</th>\n",
       "      <th>true_reputation</th>\n",
       "    </tr>\n",
       "  </thead>\n",
       "  <tbody>\n",
       "    <tr>\n",
       "      <th>0</th>\n",
       "      <td>e825fa5e-5362-44d8-8b1f-ce88d8f763de</td>\n",
       "      <td>airbrake.io</td>\n",
       "      <td>2024-02-28</td>\n",
       "      <td>source_3</td>\n",
       "      <td>HTTPS</td>\n",
       "      <td>200.0</td>\n",
       "      <td>7.57</td>\n",
       "      <td>99</td>\n",
       "      <td>[True, google.dm]</td>\n",
       "      <td>service_4</td>\n",
       "      <td>12.5</td>\n",
       "      <td>airbrake</td>\n",
       "      <td>io</td>\n",
       "      <td>service_4</td>\n",
       "      <td>2020-11-12</td>\n",
       "      <td>source_1</td>\n",
       "      <td>86</td>\n",
       "      <td>good</td>\n",
       "      <td>2024-02-28</td>\n",
       "      <td>scam</td>\n",
       "    </tr>\n",
       "    <tr>\n",
       "      <th>1</th>\n",
       "      <td>ce51c2c9-808c-4bac-b1a3-ce4f706973f3</td>\n",
       "      <td>thepennyhoarder.com</td>\n",
       "      <td>2024-02-28</td>\n",
       "      <td>source_4</td>\n",
       "      <td>HTTP</td>\n",
       "      <td>200.0</td>\n",
       "      <td>1.69</td>\n",
       "      <td>456</td>\n",
       "      <td>[True, bluekai.com]</td>\n",
       "      <td>service_2</td>\n",
       "      <td>13.2</td>\n",
       "      <td>thepennyhoarder</td>\n",
       "      <td>com</td>\n",
       "      <td>service_2</td>\n",
       "      <td>2023-09-07</td>\n",
       "      <td>source_1</td>\n",
       "      <td>5</td>\n",
       "      <td>good</td>\n",
       "      <td>2024-02-28</td>\n",
       "      <td>clean</td>\n",
       "    </tr>\n",
       "    <tr>\n",
       "      <th>2</th>\n",
       "      <td>b181b1fb-48df-4a10-ab78-ef713e392990</td>\n",
       "      <td>arcpublishing.com</td>\n",
       "      <td>2024-02-28</td>\n",
       "      <td>source_1</td>\n",
       "      <td>HTTPS</td>\n",
       "      <td>301.0</td>\n",
       "      <td>8.08</td>\n",
       "      <td>167</td>\n",
       "      <td>False</td>\n",
       "      <td>service_1</td>\n",
       "      <td>14.6</td>\n",
       "      <td>arcpublishing</td>\n",
       "      <td>com</td>\n",
       "      <td>service_1</td>\n",
       "      <td>2023-01-18</td>\n",
       "      <td>source_1</td>\n",
       "      <td>48</td>\n",
       "      <td>bad</td>\n",
       "      <td>2024-02-28</td>\n",
       "      <td>clean</td>\n",
       "    </tr>\n",
       "    <tr>\n",
       "      <th>3</th>\n",
       "      <td>7126f73d-d342-4f32-9fec-cc3c9868db6b</td>\n",
       "      <td>thegioididong.com</td>\n",
       "      <td>2024-02-28</td>\n",
       "      <td>source_4</td>\n",
       "      <td>HTTP</td>\n",
       "      <td>200.0</td>\n",
       "      <td>0.60</td>\n",
       "      <td>297</td>\n",
       "      <td>False</td>\n",
       "      <td>service_3</td>\n",
       "      <td>20.4</td>\n",
       "      <td>thegioididong</td>\n",
       "      <td>com</td>\n",
       "      <td>service_3</td>\n",
       "      <td>2021-10-25</td>\n",
       "      <td>source_2</td>\n",
       "      <td>13</td>\n",
       "      <td>good</td>\n",
       "      <td>2024-02-28</td>\n",
       "      <td>clean</td>\n",
       "    </tr>\n",
       "    <tr>\n",
       "      <th>4</th>\n",
       "      <td>c06a9f56-0291-4916-843c-8c4da9d2fa6d</td>\n",
       "      <td>leboncoin.fr</td>\n",
       "      <td>2024-02-28</td>\n",
       "      <td>source_3</td>\n",
       "      <td>HTTP</td>\n",
       "      <td>301.0</td>\n",
       "      <td>9.15</td>\n",
       "      <td>377</td>\n",
       "      <td>False</td>\n",
       "      <td>service_3</td>\n",
       "      <td>17.1</td>\n",
       "      <td>leboncoin</td>\n",
       "      <td>fr</td>\n",
       "      <td>service_3</td>\n",
       "      <td>2023-11-22</td>\n",
       "      <td>source_1</td>\n",
       "      <td>31</td>\n",
       "      <td>neutral</td>\n",
       "      <td>2024-02-28</td>\n",
       "      <td>clean</td>\n",
       "    </tr>\n",
       "    <tr>\n",
       "      <th>...</th>\n",
       "      <td>...</td>\n",
       "      <td>...</td>\n",
       "      <td>...</td>\n",
       "      <td>...</td>\n",
       "      <td>...</td>\n",
       "      <td>...</td>\n",
       "      <td>...</td>\n",
       "      <td>...</td>\n",
       "      <td>...</td>\n",
       "      <td>...</td>\n",
       "      <td>...</td>\n",
       "      <td>...</td>\n",
       "      <td>...</td>\n",
       "      <td>...</td>\n",
       "      <td>...</td>\n",
       "      <td>...</td>\n",
       "      <td>...</td>\n",
       "      <td>...</td>\n",
       "      <td>...</td>\n",
       "      <td>...</td>\n",
       "    </tr>\n",
       "    <tr>\n",
       "      <th>2163</th>\n",
       "      <td>35e51da1-a2b3-4bb0-83a3-365b0f023f08</td>\n",
       "      <td>news.livedoor.com</td>\n",
       "      <td>2021-10-23</td>\n",
       "      <td>source_1</td>\n",
       "      <td>HTTPS</td>\n",
       "      <td>200.0</td>\n",
       "      <td>6.63</td>\n",
       "      <td>295</td>\n",
       "      <td>[True, pinimg.com]</td>\n",
       "      <td>service_1</td>\n",
       "      <td>24.4</td>\n",
       "      <td>news.livedoor</td>\n",
       "      <td>com</td>\n",
       "      <td>service_1</td>\n",
       "      <td>2023-01-10</td>\n",
       "      <td>source_2</td>\n",
       "      <td>20</td>\n",
       "      <td>neutral</td>\n",
       "      <td>2021-10-23</td>\n",
       "      <td>clean</td>\n",
       "    </tr>\n",
       "    <tr>\n",
       "      <th>2164</th>\n",
       "      <td>b4743098-9987-4cee-9cd1-a35a0d6c6a9d</td>\n",
       "      <td>block.si</td>\n",
       "      <td>2021-10-09</td>\n",
       "      <td>source_4</td>\n",
       "      <td>HTTP</td>\n",
       "      <td>200.0</td>\n",
       "      <td>9.42</td>\n",
       "      <td>444</td>\n",
       "      <td>[True, eesysoft.com, googlezip.net]</td>\n",
       "      <td>service_1</td>\n",
       "      <td>12.5</td>\n",
       "      <td>block</td>\n",
       "      <td>si</td>\n",
       "      <td>service_1</td>\n",
       "      <td>2022-09-11</td>\n",
       "      <td>source_1</td>\n",
       "      <td>45</td>\n",
       "      <td>bad</td>\n",
       "      <td>2021-10-09</td>\n",
       "      <td>clean</td>\n",
       "    </tr>\n",
       "    <tr>\n",
       "      <th>2165</th>\n",
       "      <td>738b7e9a-aedb-4edd-bf6a-6135ce7b21b0</td>\n",
       "      <td>blooket.com</td>\n",
       "      <td>2021-09-03</td>\n",
       "      <td>source_2</td>\n",
       "      <td>HTTPS</td>\n",
       "      <td>200.0</td>\n",
       "      <td>1.65</td>\n",
       "      <td>162</td>\n",
       "      <td>[True, solvvy.com]</td>\n",
       "      <td>service_3</td>\n",
       "      <td>5.3</td>\n",
       "      <td>blooket</td>\n",
       "      <td>com</td>\n",
       "      <td>service_3</td>\n",
       "      <td>2022-06-28</td>\n",
       "      <td>source_3</td>\n",
       "      <td>19</td>\n",
       "      <td>good</td>\n",
       "      <td>2021-09-03</td>\n",
       "      <td>clean</td>\n",
       "    </tr>\n",
       "    <tr>\n",
       "      <th>2166</th>\n",
       "      <td>f851683f-7448-474d-878f-19f90a720e45</td>\n",
       "      <td>zoho.com</td>\n",
       "      <td>2021-06-22</td>\n",
       "      <td>source_2</td>\n",
       "      <td>HTTPS</td>\n",
       "      <td>200.0</td>\n",
       "      <td>7.82</td>\n",
       "      <td>166</td>\n",
       "      <td>False</td>\n",
       "      <td>service_1</td>\n",
       "      <td>20.1</td>\n",
       "      <td>zoho</td>\n",
       "      <td>com</td>\n",
       "      <td>service_1</td>\n",
       "      <td>2021-01-23</td>\n",
       "      <td>source_3</td>\n",
       "      <td>86</td>\n",
       "      <td>good</td>\n",
       "      <td>2021-06-22</td>\n",
       "      <td>clean</td>\n",
       "    </tr>\n",
       "    <tr>\n",
       "      <th>2167</th>\n",
       "      <td>ccb9d6f5-53c0-48a5-9e68-6f56701093e2</td>\n",
       "      <td>3bmeteo.com</td>\n",
       "      <td>2021-06-05</td>\n",
       "      <td>source_2</td>\n",
       "      <td>HTTPS</td>\n",
       "      <td>200.0</td>\n",
       "      <td>6.56</td>\n",
       "      <td>367</td>\n",
       "      <td>False</td>\n",
       "      <td>service_3</td>\n",
       "      <td>24.9</td>\n",
       "      <td>3bmeteo</td>\n",
       "      <td>com</td>\n",
       "      <td>service_3</td>\n",
       "      <td>2021-12-31</td>\n",
       "      <td>source_2</td>\n",
       "      <td>44</td>\n",
       "      <td>good</td>\n",
       "      <td>2021-06-05</td>\n",
       "      <td>clean</td>\n",
       "    </tr>\n",
       "  </tbody>\n",
       "</table>\n",
       "<p>2168 rows × 20 columns</p>\n",
       "</div>"
      ],
      "text/plain": [
       "                                        id                  url       date  \\\n",
       "0     e825fa5e-5362-44d8-8b1f-ce88d8f763de          airbrake.io 2024-02-28   \n",
       "1     ce51c2c9-808c-4bac-b1a3-ce4f706973f3  thepennyhoarder.com 2024-02-28   \n",
       "2     b181b1fb-48df-4a10-ab78-ef713e392990    arcpublishing.com 2024-02-28   \n",
       "3     7126f73d-d342-4f32-9fec-cc3c9868db6b    thegioididong.com 2024-02-28   \n",
       "4     c06a9f56-0291-4916-843c-8c4da9d2fa6d         leboncoin.fr 2024-02-28   \n",
       "...                                    ...                  ...        ...   \n",
       "2163  35e51da1-a2b3-4bb0-83a3-365b0f023f08    news.livedoor.com 2021-10-23   \n",
       "2164  b4743098-9987-4cee-9cd1-a35a0d6c6a9d             block.si 2021-10-09   \n",
       "2165  738b7e9a-aedb-4edd-bf6a-6135ce7b21b0          blooket.com 2021-09-03   \n",
       "2166  f851683f-7448-474d-878f-19f90a720e45             zoho.com 2021-06-22   \n",
       "2167  ccb9d6f5-53c0-48a5-9e68-6f56701093e2          3bmeteo.com 2021-06-05   \n",
       "\n",
       "        source protocol  response_code  load_time_seconds  page_size_kb  \\\n",
       "0     source_3    HTTPS          200.0               7.57            99   \n",
       "1     source_4     HTTP          200.0               1.69           456   \n",
       "2     source_1    HTTPS          301.0               8.08           167   \n",
       "3     source_4     HTTP          200.0               0.60           297   \n",
       "4     source_3     HTTP          301.0               9.15           377   \n",
       "...        ...      ...            ...                ...           ...   \n",
       "2163  source_1    HTTPS          200.0               6.63           295   \n",
       "2164  source_4     HTTP          200.0               9.42           444   \n",
       "2165  source_2    HTTPS          200.0               1.65           162   \n",
       "2166  source_2    HTTPS          200.0               7.82           166   \n",
       "2167  source_2    HTTPS          200.0               6.56           367   \n",
       "\n",
       "                                redirects    service   age           domain  \\\n",
       "0                       [True, google.dm]  service_4  12.5         airbrake   \n",
       "1                     [True, bluekai.com]  service_2  13.2  thepennyhoarder   \n",
       "2                                   False  service_1  14.6    arcpublishing   \n",
       "3                                   False  service_3  20.4    thegioididong   \n",
       "4                                   False  service_3  17.1        leboncoin   \n",
       "...                                   ...        ...   ...              ...   \n",
       "2163                   [True, pinimg.com]  service_1  24.4    news.livedoor   \n",
       "2164  [True, eesysoft.com, googlezip.net]  service_1  12.5            block   \n",
       "2165                   [True, solvvy.com]  service_3   5.3          blooket   \n",
       "2166                                False  service_1  20.1             zoho   \n",
       "2167                                False  service_3  24.9          3bmeteo   \n",
       "\n",
       "      TLD   priority  timestamp reputation_source  reputation_score  \\\n",
       "0      io  service_4 2020-11-12          source_1                86   \n",
       "1     com  service_2 2023-09-07          source_1                 5   \n",
       "2     com  service_1 2023-01-18          source_1                48   \n",
       "3     com  service_3 2021-10-25          source_2                13   \n",
       "4      fr  service_3 2023-11-22          source_1                31   \n",
       "...   ...        ...        ...               ...               ...   \n",
       "2163  com  service_1 2023-01-10          source_2                20   \n",
       "2164   si  service_1 2022-09-11          source_1                45   \n",
       "2165  com  service_3 2022-06-28          source_3                19   \n",
       "2166  com  service_1 2021-01-23          source_3                86   \n",
       "2167  com  service_3 2021-12-31          source_2                44   \n",
       "\n",
       "     reputation_category reputation_date true_reputation  \n",
       "0                   good      2024-02-28            scam  \n",
       "1                   good      2024-02-28           clean  \n",
       "2                    bad      2024-02-28           clean  \n",
       "3                   good      2024-02-28           clean  \n",
       "4                neutral      2024-02-28           clean  \n",
       "...                  ...             ...             ...  \n",
       "2163             neutral      2021-10-23           clean  \n",
       "2164                 bad      2021-10-09           clean  \n",
       "2165                good      2021-09-03           clean  \n",
       "2166                good      2021-06-22           clean  \n",
       "2167                good      2021-06-05           clean  \n",
       "\n",
       "[2168 rows x 20 columns]"
      ]
     },
     "execution_count": 134,
     "metadata": {},
     "output_type": "execute_result"
    }
   ],
   "source": [
    "urls"
   ]
  },
  {
   "cell_type": "code",
   "execution_count": 135,
   "id": "09f6c44c",
   "metadata": {},
   "outputs": [],
   "source": [
    "urls.to_csv('urls.csv', index=False)"
   ]
  },
  {
   "cell_type": "markdown",
   "id": "8ea9066b",
   "metadata": {},
   "source": [
    "# 3.1. Reputations of latest URL messages\n",
    "### Lets check how our internal reputation services perform with this list"
   ]
  },
  {
   "cell_type": "code",
   "execution_count": 136,
   "id": "d6ea7c2a",
   "metadata": {},
   "outputs": [],
   "source": [
    "urls['true_reputation_adjusted'] = urls['true_reputation'].apply(categorize)"
   ]
  },
  {
   "cell_type": "code",
   "execution_count": 137,
   "id": "fbbb7843",
   "metadata": {},
   "outputs": [],
   "source": [
    "urls['correct_reputation'] = urls['reputation_category'] == urls['true_reputation_adjusted']"
   ]
  },
  {
   "cell_type": "code",
   "execution_count": 138,
   "id": "320519b3",
   "metadata": {
    "collapsed": true
   },
   "outputs": [
    {
     "data": {
      "text/html": [
       "<div>\n",
       "<style scoped>\n",
       "    .dataframe tbody tr th:only-of-type {\n",
       "        vertical-align: middle;\n",
       "    }\n",
       "\n",
       "    .dataframe tbody tr th {\n",
       "        vertical-align: top;\n",
       "    }\n",
       "\n",
       "    .dataframe thead th {\n",
       "        text-align: right;\n",
       "    }\n",
       "</style>\n",
       "<table border=\"1\" class=\"dataframe\">\n",
       "  <thead>\n",
       "    <tr style=\"text-align: right;\">\n",
       "      <th>correct_reputation</th>\n",
       "      <th>False</th>\n",
       "      <th>True</th>\n",
       "    </tr>\n",
       "    <tr>\n",
       "      <th>reputation_source</th>\n",
       "      <th></th>\n",
       "      <th></th>\n",
       "    </tr>\n",
       "  </thead>\n",
       "  <tbody>\n",
       "    <tr>\n",
       "      <th>source_1</th>\n",
       "      <td>60.220126</td>\n",
       "      <td>39.779874</td>\n",
       "    </tr>\n",
       "    <tr>\n",
       "      <th>source_2</th>\n",
       "      <td>59.324523</td>\n",
       "      <td>40.675477</td>\n",
       "    </tr>\n",
       "    <tr>\n",
       "      <th>source_3</th>\n",
       "      <td>56.017831</td>\n",
       "      <td>43.982169</td>\n",
       "    </tr>\n",
       "    <tr>\n",
       "      <th>source_4</th>\n",
       "      <td>58.988764</td>\n",
       "      <td>41.011236</td>\n",
       "    </tr>\n",
       "  </tbody>\n",
       "</table>\n",
       "</div>"
      ],
      "text/plain": [
       "correct_reputation      False      True \n",
       "reputation_source                       \n",
       "source_1            60.220126  39.779874\n",
       "source_2            59.324523  40.675477\n",
       "source_3            56.017831  43.982169\n",
       "source_4            58.988764  41.011236"
      ]
     },
     "execution_count": 138,
     "metadata": {},
     "output_type": "execute_result"
    }
   ],
   "source": [
    "urls.groupby('reputation_source')['correct_reputation'].value_counts(normalize=True).unstack() * 100"
   ]
  },
  {
   "cell_type": "markdown",
   "id": "dd5d635d",
   "metadata": {},
   "source": [
    "### The contrast between different local sources is more apparent now - with source_3 being the obvious leader with 43.83% success rate."
   ]
  },
  {
   "cell_type": "markdown",
   "id": "82c4662a",
   "metadata": {},
   "source": [
    "### Nevertheless, it is still a small success rate and it is apparent that internal reputation identifications sources aren't precise. True reputation categories should be used whenever possible."
   ]
  },
  {
   "cell_type": "code",
   "execution_count": 139,
   "id": "0cacbf83",
   "metadata": {
    "collapsed": true
   },
   "outputs": [
    {
     "data": {
      "text/plain": [
       "service\n",
       "service_2    33.809963\n",
       "service_3    31.549815\n",
       "service_1    31.273063\n",
       "service_4     3.367159\n",
       "Name: proportion, dtype: float64"
      ]
     },
     "execution_count": 139,
     "metadata": {},
     "output_type": "execute_result"
    }
   ],
   "source": [
    "urls['service'].value_counts(normalize=True) * 100"
   ]
  },
  {
   "cell_type": "code",
   "execution_count": 140,
   "id": "ec802171",
   "metadata": {
    "collapsed": true
   },
   "outputs": [
    {
     "data": {
      "text/plain": [
       "service\n",
       "service_2    30.118\n",
       "service_3    29.938\n",
       "service_1    29.753\n",
       "service_4    10.191\n",
       "Name: proportion, dtype: float64"
      ]
     },
     "execution_count": 140,
     "metadata": {},
     "output_type": "execute_result"
    }
   ],
   "source": [
    "messages['service'].value_counts(normalize=True) * 100"
   ]
  },
  {
   "cell_type": "markdown",
   "id": "2850924f",
   "metadata": {},
   "source": [
    "### Service 4 has a massive drop in messages received when we consider only the priority sources"
   ]
  },
  {
   "cell_type": "markdown",
   "id": "e999f8cb",
   "metadata": {},
   "source": [
    "# 4. Exploratory Data Analysis"
   ]
  },
  {
   "cell_type": "markdown",
   "id": "61b45a55",
   "metadata": {},
   "source": [
    "### 4.1. Now that I'm done with cleaning and modifying the dataset, I can begin exploring the dataset more. I'll begin with load time comparisons"
   ]
  },
  {
   "cell_type": "code",
   "execution_count": 141,
   "id": "da3f0172",
   "metadata": {},
   "outputs": [],
   "source": [
    "pivot = messages.pivot_table(index = 'source', columns = 'service', values = 'load_time_seconds',\n",
    "                             aggfunc = 'mean')"
   ]
  },
  {
   "cell_type": "code",
   "execution_count": 142,
   "id": "06ab121a",
   "metadata": {},
   "outputs": [
    {
     "data": {
      "image/png": "[encoded data removed]",
      "text/plain": [
       "<Figure size 1000x600 with 2 Axes>"
      ]
     },
     "metadata": {},
     "output_type": "display_data"
    }
   ],
   "source": [
    "plt.figure(figsize=(10, 6))\n",
    "sns.heatmap(pivot, annot=True, cmap=\"flare\", fmt=\".2f\", linewidths=.5)\n",
    "plt.title('Load Time Heatmap')\n",
    "plt.show()"
   ]
  },
  {
   "cell_type": "markdown",
   "id": "3b79328e",
   "metadata": {},
   "source": [
    "### The differences between loadtimes are negligible in both dimensions - when comparing services and sources.\n",
    "### The biggest mean loadtime difference can be observed between service 1's source 1 and 2 performances (0.17 s difference)"
   ]
  },
  {
   "cell_type": "code",
   "execution_count": 143,
   "id": "06640c07",
   "metadata": {
    "collapsed": true
   },
   "outputs": [
    {
     "data": {
      "text/plain": [
       "TLD\n",
       "com    56736\n",
       "net     8520\n",
       "io      2101\n",
       "ru      1984\n",
       "jp      1896\n",
       "       ...  \n",
       "mm        35\n",
       "cm        34\n",
       "jm        34\n",
       "je        32\n",
       "sk        31\n",
       "Name: count, Length: 248, dtype: int64"
      ]
     },
     "execution_count": 143,
     "metadata": {},
     "output_type": "execute_result"
    }
   ],
   "source": [
    "messages['TLD'].value_counts()"
   ]
  },
  {
   "cell_type": "markdown",
   "id": "58ccf3d0",
   "metadata": {},
   "source": [
    "### There are 248 different top-level domains. To gain some insight on how they compare, I'll ignore the one's that have fewer than 500 instances (at least 0.5% of all instances)."
   ]
  },
  {
   "cell_type": "code",
   "execution_count": 144,
   "id": "1c741571",
   "metadata": {},
   "outputs": [],
   "source": [
    "tlds = messages.groupby('TLD').filter(lambda x: len(x)>500)"
   ]
  },
  {
   "cell_type": "code",
   "execution_count": 145,
   "id": "6290f75a",
   "metadata": {
    "collapsed": true
   },
   "outputs": [
    {
     "data": {
      "text/plain": [
       "TLD\n",
       "com    56736\n",
       "net     8520\n",
       "io      2101\n",
       "ru      1984\n",
       "jp      1896\n",
       "org     1396\n",
       "it       967\n",
       "uk       940\n",
       "de       851\n",
       "fr       816\n",
       "br       738\n",
       "co       671\n",
       "pl       644\n",
       "cn       640\n",
       "es       608\n",
       "me       531\n",
       "Name: count, dtype: int64"
      ]
     },
     "execution_count": 145,
     "metadata": {},
     "output_type": "execute_result"
    }
   ],
   "source": [
    "tlds['TLD'].value_counts()"
   ]
  },
  {
   "cell_type": "code",
   "execution_count": 146,
   "id": "6f2786d4",
   "metadata": {},
   "outputs": [
    {
     "name": "stderr",
     "output_type": "stream",
     "text": [
      "C:\\Users\\HP\\AppData\\Local\\Temp\\ipykernel_6628\\2409416781.py:4: FutureWarning: \n",
      "\n",
      "The `ci` parameter is deprecated. Use `errorbar=None` for the same effect.\n",
      "\n",
      "  ax1 = sns.barplot(x='TLD', y='load_time_seconds', data=tlds, palette = 'flare', order=tld_occurrence,\n"
     ]
    },
    {
     "data": {
      "image/png": "[encoded data removed]",
      "text/plain": [
       "<Figure size 1000x600 with 2 Axes>"
      ]
     },
     "metadata": {},
     "output_type": "display_data"
    }
   ],
   "source": [
    "tld_occurrence = tlds['TLD'].value_counts().index\n",
    "\n",
    "plt.figure(figsize=(10, 6))\n",
    "ax1 = sns.barplot(x='TLD', y='load_time_seconds', data=tlds, palette = 'flare', order=tld_occurrence,\n",
    "                 ci=None, edgecolor = 'black')\n",
    "\n",
    "plt.ylim(5.1, 5.5)\n",
    "\n",
    "ax2 = ax1.twinx()\n",
    "sns.lineplot(x='TLD', y='page_size_kb', data=tlds.groupby('TLD')['page_size_kb'].mean().reset_index(), \n",
    "             ax=ax2)\n",
    "\n",
    "plt.ylim(230, plt.ylim()[1])\n",
    "\n",
    "ax1.set_xlabel('TLD')\n",
    "ax1.set_ylabel('Load Time (seconds)', color='purple')\n",
    "ax2.set_ylabel('Page Size (KB)', color='blue')\n",
    "plt.title('Load Time and Page Size Comparison')\n",
    "\n",
    "plt.show()"
   ]
  },
  {
   "cell_type": "markdown",
   "id": "6cff2a26",
   "metadata": {},
   "source": [
    "### The chart above shows us that there are some menial load time and page size differences between different TLD's.\n",
    "### 1. The barplot shows a variance between 5.16 and 5.34 seconds between .es and .it TLDs\n",
    "### 2. There doesn't seem to be a correlation between load times and page sizes, which raises a suspicion that the given dataset contains fabricated or faulty information"
   ]
  },
  {
   "cell_type": "markdown",
   "id": "675ec9e5",
   "metadata": {},
   "source": [
    "## 4.2. Redirects"
   ]
  },
  {
   "cell_type": "code",
   "execution_count": 147,
   "id": "8e243f4e",
   "metadata": {},
   "outputs": [
    {
     "data": {
      "text/html": [
       "<div>\n",
       "<style scoped>\n",
       "    .dataframe tbody tr th:only-of-type {\n",
       "        vertical-align: middle;\n",
       "    }\n",
       "\n",
       "    .dataframe tbody tr th {\n",
       "        vertical-align: top;\n",
       "    }\n",
       "\n",
       "    .dataframe thead th {\n",
       "        text-align: right;\n",
       "    }\n",
       "</style>\n",
       "<table border=\"1\" class=\"dataframe\">\n",
       "  <thead>\n",
       "    <tr style=\"text-align: right;\">\n",
       "      <th></th>\n",
       "      <th>service</th>\n",
       "      <th>rate</th>\n",
       "    </tr>\n",
       "  </thead>\n",
       "  <tbody>\n",
       "    <tr>\n",
       "      <th>0</th>\n",
       "      <td>service_1</td>\n",
       "      <td>0.396868</td>\n",
       "    </tr>\n",
       "    <tr>\n",
       "      <th>1</th>\n",
       "      <td>service_2</td>\n",
       "      <td>0.400691</td>\n",
       "    </tr>\n",
       "    <tr>\n",
       "      <th>2</th>\n",
       "      <td>service_3</td>\n",
       "      <td>0.402699</td>\n",
       "    </tr>\n",
       "    <tr>\n",
       "      <th>3</th>\n",
       "      <td>service_4</td>\n",
       "      <td>0.402414</td>\n",
       "    </tr>\n",
       "  </tbody>\n",
       "</table>\n",
       "</div>"
      ],
      "text/plain": [
       "     service      rate\n",
       "0  service_1  0.396868\n",
       "1  service_2  0.400691\n",
       "2  service_3  0.402699\n",
       "3  service_4  0.402414"
      ]
     },
     "execution_count": 147,
     "metadata": {},
     "output_type": "execute_result"
    }
   ],
   "source": [
    "def false_rate(series):\n",
    "    total_count = len(series)\n",
    "    false_count = sum(value is False for value in series)\n",
    "    return false_count / total_count if total_count > 0 else 0\n",
    "\n",
    "redirects = messages.groupby('service')['redirects'].agg(false_rate).reset_index()\n",
    "\n",
    "redirects['rate'] = 1-redirects['redirects']\n",
    "\n",
    "redirects[['service','rate']]"
   ]
  },
  {
   "cell_type": "markdown",
   "id": "304b0c62",
   "metadata": {},
   "source": [
    "### As can be seen, the redirect rate across different services is negligible - the range being only 0.6%"
   ]
  },
  {
   "cell_type": "markdown",
   "id": "1569afcc",
   "metadata": {},
   "source": [
    "### Now lets analyze the most common redirected domains"
   ]
  },
  {
   "cell_type": "code",
   "execution_count": 148,
   "id": "b906de72",
   "metadata": {},
   "outputs": [],
   "source": [
    "redirects = messages[messages['redirects'] != False]"
   ]
  },
  {
   "cell_type": "code",
   "execution_count": 149,
   "id": "d8f3cb5d",
   "metadata": {},
   "outputs": [],
   "source": [
    "redirects = redirects.explode('redirects')\n",
    "redirects = redirects[redirects['redirects'] != True]"
   ]
  },
  {
   "cell_type": "code",
   "execution_count": 150,
   "id": "2836d2bb",
   "metadata": {},
   "outputs": [],
   "source": [
    "redirected_domains = redirects['redirects'].value_counts().reset_index()\n",
    "redirected_domains.columns = ['Domain', 'Count']"
   ]
  },
  {
   "cell_type": "code",
   "execution_count": 151,
   "id": "1b9a042e",
   "metadata": {},
   "outputs": [
    {
     "data": {
      "text/html": [
       "<div>\n",
       "<style scoped>\n",
       "    .dataframe tbody tr th:only-of-type {\n",
       "        vertical-align: middle;\n",
       "    }\n",
       "\n",
       "    .dataframe tbody tr th {\n",
       "        vertical-align: top;\n",
       "    }\n",
       "\n",
       "    .dataframe thead th {\n",
       "        text-align: right;\n",
       "    }\n",
       "</style>\n",
       "<table border=\"1\" class=\"dataframe\">\n",
       "  <thead>\n",
       "    <tr style=\"text-align: right;\">\n",
       "      <th></th>\n",
       "      <th>Domain</th>\n",
       "      <th>Count</th>\n",
       "    </tr>\n",
       "  </thead>\n",
       "  <tbody>\n",
       "    <tr>\n",
       "      <th>0</th>\n",
       "      <td>moengage.com</td>\n",
       "      <td>44</td>\n",
       "    </tr>\n",
       "    <tr>\n",
       "      <th>1</th>\n",
       "      <td>myntra.com</td>\n",
       "      <td>43</td>\n",
       "    </tr>\n",
       "    <tr>\n",
       "      <th>2</th>\n",
       "      <td>hotpepper.jp</td>\n",
       "      <td>39</td>\n",
       "    </tr>\n",
       "    <tr>\n",
       "      <th>3</th>\n",
       "      <td>hbomax.com</td>\n",
       "      <td>38</td>\n",
       "    </tr>\n",
       "    <tr>\n",
       "      <th>4</th>\n",
       "      <td>ringcentral.com</td>\n",
       "      <td>37</td>\n",
       "    </tr>\n",
       "    <tr>\n",
       "      <th>...</th>\n",
       "      <td>...</td>\n",
       "      <td>...</td>\n",
       "    </tr>\n",
       "    <tr>\n",
       "      <th>2163</th>\n",
       "      <td>nielsencollections.com</td>\n",
       "      <td>11</td>\n",
       "    </tr>\n",
       "    <tr>\n",
       "      <th>2164</th>\n",
       "      <td>onetag.io</td>\n",
       "      <td>11</td>\n",
       "    </tr>\n",
       "    <tr>\n",
       "      <th>2165</th>\n",
       "      <td>okta.com</td>\n",
       "      <td>10</td>\n",
       "    </tr>\n",
       "    <tr>\n",
       "      <th>2166</th>\n",
       "      <td>google.com.kh</td>\n",
       "      <td>10</td>\n",
       "    </tr>\n",
       "    <tr>\n",
       "      <th>2167</th>\n",
       "      <td>ensonhaber.com</td>\n",
       "      <td>10</td>\n",
       "    </tr>\n",
       "  </tbody>\n",
       "</table>\n",
       "<p>2168 rows × 2 columns</p>\n",
       "</div>"
      ],
      "text/plain": [
       "                      Domain  Count\n",
       "0               moengage.com     44\n",
       "1                 myntra.com     43\n",
       "2               hotpepper.jp     39\n",
       "3                 hbomax.com     38\n",
       "4            ringcentral.com     37\n",
       "...                      ...    ...\n",
       "2163  nielsencollections.com     11\n",
       "2164               onetag.io     11\n",
       "2165                okta.com     10\n",
       "2166           google.com.kh     10\n",
       "2167          ensonhaber.com     10\n",
       "\n",
       "[2168 rows x 2 columns]"
      ]
     },
     "execution_count": 151,
     "metadata": {},
     "output_type": "execute_result"
    }
   ],
   "source": [
    "redirected_domains"
   ]
  },
  {
   "cell_type": "markdown",
   "id": "da00e8b9",
   "metadata": {},
   "source": [
    "### Since there were some cases where there were multiple redirect domains, we had to treat each of them as an individual instance.\n",
    "### We came up with a list of 2168 unique redirect domains, ranging from 10 to 44 instances of redirects."
   ]
  },
  {
   "cell_type": "markdown",
   "id": "31c493fb",
   "metadata": {},
   "source": [
    "# 5. Conclusion"
   ]
  },
  {
   "cell_type": "markdown",
   "id": "76951cc1",
   "metadata": {},
   "source": [
    "## 5.1. Data Cleaning\n",
    "### The main messages.json dataset had missing values in two of its columns:\n",
    "### - 'response_code' - these were filled based on the 'url' and 'source' groups last historical entrances.\n",
    "### - 'domain_age' - 25% of entries here were missing and those that were present were obviously faulty, so information for each unique domain was scraped ant it re-populated this column.\n",
    "### Also, message date column had obviously faulty information, with dates ranging back to 1938. All the dates before 2020-01-01 were replaced with 2019-12-31."
   ]
  },
  {
   "cell_type": "markdown",
   "id": "fce9ecf7",
   "metadata": {},
   "source": [
    "## 5.2. Reputations\n",
    "### Local reputation checkers' performances were compared to the 'Real' reputation scores scores from reliable sources:\n",
    "### 1. Since there were different category ranges (3 reputations categories for local checkers and 5 categories for 'True\" checkers), I grouped these categories into good-neutral-bad\n",
    "### 2. After category equalization, it was apparent that all local sources had similarly poor performance rates (42%) at guessing the 'correct' categories with extremely negligible differences\n",
    "### 3. If we take the reputation score column into cosideration, which represents the confidence in the local checker's category assignment and check only 50+ score values, we get a slightly bigger distribution between different sources - with source 4 having the biggest score of 43.21%"
   ]
  },
  {
   "cell_type": "markdown",
   "id": "3e6e2a75",
   "metadata": {},
   "source": [
    "## 5.3. URL latest data\n",
    "### Each URL has been consumed multiple times and has different information about its reputation, date, etc. I have created a list of each unique URL's most relevant data:\n",
    "### 1. Each message's priority service has been identified. There were no such cases when a URL didn't have a single instance of being consumed by a priority service.\n",
    "### 2. Only priority service messages were filtered out and joined with the reputation table to identify the latest reputation ratings of each URL.\n",
    "### 3. The generated dataframe of unique URL's and their most relevant data has been saved as a separate .csv file for convenient data visualization later on."
   ]
  },
  {
   "cell_type": "markdown",
   "id": "ffa836d5",
   "metadata": {},
   "source": [
    "## 5.3.1. Reputations of relevant URL messages\n",
    "### The same procedure as described in step 5.2. has been repeated with only the filtered out most relevant URL data and although the contrast between different sources' performances was slightly larger - with source_3 being the obvious leader with 43.83% success rate, this performance is still very poor. "
   ]
  },
  {
   "cell_type": "markdown",
   "id": "8a9d5212",
   "metadata": {},
   "source": [
    "## 5.4. Exploratory Data Analysis\n",
    "### 5.4.1.First, load time differences were compared. The heatmap above shows that the differences between loadtimes are negligible in both dimensions - when comparing services and sources. The biggest mean loadtime difference can be observed between service 1's source 1 and 2 performances (0.17 s difference).\n",
    "### 5.4.2. Performances of most common TLD's were compared (TLDs with at least 500 occurrences) - the combo chart shows us that there are some menial load time and page size differences between different TLD's, although nothing significant.\n",
    "### 5.4.3. Redirects - once again, the redirect rate across different services is negligible - the range being only 0.6%. I have filtered out all the redirected domains and stored them in a separate list with their respective occurence values for potential future use."
   ]
  },
  {
   "cell_type": "markdown",
   "id": "5754d2a7",
   "metadata": {},
   "source": [
    "## 5.5. Conclusion\n",
    "### It is obvious, that most of the provided data was synthetically generated and all observed insights and correlations are fictious. The purpose of this workbook was simply to demonstrate the processes I normaly undergo when tackling similar cases.\n",
    "### Nevertheless, all of these findings are visualized in the attached Power BI file.\n",
    "### Another dimensions that could be tracked/scraped - are the categories of these urls and how their performances differ."
   ]
  },
  {
   "cell_type": "code",
   "execution_count": 152,
   "id": "6f1f6f74",
   "metadata": {},
   "outputs": [],
   "source": [
    "messages.to_csv('messages.csv', index=False)"
   ]
  },
  {
   "cell_type": "code",
   "execution_count": null,
   "id": "9ae58e78",
   "metadata": {},
   "outputs": [],
   "source": []
  }
 ],
 "metadata": {
  "kernelspec": {
   "display_name": "Python 3",
   "language": "python",
   "name": "python3"
  },
  "language_info": {
   "codemirror_mode": {
    "name": "ipython",
    "version": 3
   },
   "file_extension": ".py",
   "mimetype": "text/x-python",
   "name": "python",
   "nbconvert_exporter": "python",
   "pygments_lexer": "ipython3",
   "version": "3.11.5"
  }
 },
 "nbformat": 4,
 "nbformat_minor": 5
}
